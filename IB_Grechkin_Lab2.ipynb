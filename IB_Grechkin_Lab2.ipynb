{
 "cells": [
  {
   "cell_type": "code",
   "execution_count": 1,
   "id": "52ae3fc2-4573-4630-a9bf-140ab9ec3d79",
   "metadata": {},
   "outputs": [],
   "source": [
    "import numpy as np\n",
    "import math"
   ]
  },
  {
   "cell_type": "code",
   "execution_count": 3,
   "id": "112fda1a-8493-4df1-8940-e2e1d32ade12",
   "metadata": {},
   "outputs": [],
   "source": [
    "ru = [chr(i) for i in range (ord('а'), ord('я') + 1)]\n",
    "en = [chr(i) for i in range (ord('a'), ord('z') + 1)]"
   ]
  },
  {
   "cell_type": "code",
   "execution_count": 7,
   "id": "6226cd6a-37ae-424a-85e0-6a8d73a258a4",
   "metadata": {},
   "outputs": [
    {
     "name": "stdout",
     "output_type": "stream",
     "text": [
      "6 4\n",
      "[['з' 'д' 'р' 'а' 'в' 'с']\n",
      " ['т' 'в' 'у' 'й' 'т' 'е']\n",
      " [',' 'я' 'г' 'р' 'и' 'г']\n",
      " ['о' 'р' 'и' 'й' 'й' 'й']]\n"
     ]
    }
   ],
   "source": [
    "text = 'Здравствуйте, я Григорий'\n",
    "newText = text.replace(' ', '').lower()\n",
    "key = 'пароль'\n",
    "keyLetters = {key[i] : i for i in range (len(key))}\n",
    "keyLen = len(key)\n",
    "textLen = len(newText)\n",
    "m = int(round(textLen/keyLen))\n",
    "A = np.full((m,keyLen), '')\n",
    "\n",
    "for i in range(m*keyLen - textLen):\n",
    "    newText += newText[-1]\n",
    "\n",
    "tmp_count = 0\n",
    "for i in range(m):\n",
    "    for j in range(keyLen):\n",
    "        A[i][j] = newText[tmp_count]\n",
    "        tmp_count += 1\n",
    "        \n",
    "print(keyLen, m)\n",
    "print(np.matrix(A))"
   ]
  },
  {
   "cell_type": "markdown",
   "id": "17812748-f1da-4900-9e6e-57c0075c50ec",
   "metadata": {},
   "source": [
    "### Номер 2"
   ]
  },
  {
   "cell_type": "code",
   "execution_count": 34,
   "id": "f4a3a3f8-19dc-4773-a72d-7449fad0138b",
   "metadata": {},
   "outputs": [
    {
     "name": "stdout",
     "output_type": "stream",
     "text": [
      "здравствуйтеягригорий************************************************************ 9 3 [1 2 3 4 5 6 7 8 9]\n"
     ]
    }
   ],
   "source": [
    "text = 'Здравствуйте я Григорий'\n",
    "newText = text.replace(' ', '').lower()\n",
    "textLen = len(newText)\n",
    "size = np.ceil(np.sqrt(textLen)) # Количество числе в маленькой таблице\n",
    "\n",
    "while size % np.sqrt(size) != 0:\n",
    "    size += 1\n",
    "size = int(size)\n",
    "\n",
    "i = 0\n",
    "while i < (size ** 2 - textLen):\n",
    "    newText += '*'\n",
    "    i += 1\n",
    "    \n",
    "tableSize = int(np.sqrt(size)) # Размер маленькой таблциы\n",
    "quaterTable = np.arange(1,size+1) # Массив с числами маленькой таблицы\n",
    "print(newText, size, tableSize, quaterTable)"
   ]
  },
  {
   "cell_type": "code",
   "execution_count": 14,
   "id": "e39c2ecf-9448-445e-b83a-415d8e0efe99",
   "metadata": {},
   "outputs": [],
   "source": [
    "def rotate(A): # Поворот вправо на 90 градусов\n",
    "    result = np.empty(shape=(A.shape[1],A.shape[0]))\n",
    "    for i in range (A.shape[0]):\n",
    "        for j in range (A.shape[1]):\n",
    "            result[j, A.shape[0]-i-1] = A[i,j]\n",
    "    return result"
   ]
  },
  {
   "cell_type": "code",
   "execution_count": 36,
   "id": "ed75456c-fe2c-48ac-a710-1e1ef4a9a369",
   "metadata": {},
   "outputs": [
    {
     "name": "stdout",
     "output_type": "stream",
     "text": [
      "[[0. 2. 0. 0. 0. 0.]\n",
      " [0. 0. 0. 8. 5. 0.]\n",
      " [0. 0. 0. 9. 6. 0.]\n",
      " [0. 0. 0. 0. 0. 7.]\n",
      " [0. 0. 0. 0. 0. 0.]\n",
      " [0. 4. 0. 3. 0. 1.]]\n"
     ]
    }
   ],
   "source": [
    "A0 = np.empty((tableSize, tableSize))\n",
    "for k in range(size):\n",
    "    n = 0\n",
    "    for i in range(tableSize):\n",
    "        for j in range(tableSize):\n",
    "            A0[i][j] = quaterTable[n]\n",
    "            n += 1\n",
    "A1 = np.concatenate((A0, rotate(A0)), axis=1)\n",
    "A2 = np.concatenate((A1, rotate(rotate(A1))), axis=0)\n",
    "\n",
    "B = np.zeros((tableSize*2, tableSize*2))\n",
    "\n",
    "_tmp = quaterTable.copy()\n",
    "for k in range (size):\n",
    "    randCount = np.random.randint(4)\n",
    "    tmp_count = 0\n",
    "    for i in range (tableSize*2):\n",
    "        for j in range (tableSize*2):\n",
    "            if (A2[i][j] == k + 1):\n",
    "                if(tmp_count == randCount):\n",
    "                    B[i][j] = A2[i][j]\n",
    "                    tmp_count = -1000000\n",
    "                    _tmp = _tmp[_tmp != k+1]\n",
    "                else:\n",
    "                    tmp_count += 1\n",
    "print(B)"
   ]
  },
  {
   "cell_type": "code",
   "execution_count": 40,
   "id": "f145117a-d3e2-4db3-853e-94cecb6ac9de",
   "metadata": {},
   "outputs": [
    {
     "name": "stdout",
     "output_type": "stream",
     "text": [
      "[['р' 'з' 'и' '*' 'й' '*']\n",
      " ['й' '*' '*' 'д' 'р' 'т']\n",
      " ['*' '*' '*' 'а' 'в' '*']\n",
      " ['е' '*' '*' 'я' 'г' 'с']\n",
      " ['*' '*' '*' 'р' 'и' '*']\n",
      " ['г' 'т' 'о' 'в' '*' 'у']]\n"
     ]
    }
   ],
   "source": [
    "fillness = 0\n",
    "answer = [[''] * tableSize*2 for i in range(tableSize*2)]\n",
    "\n",
    "for abc in range(4):\n",
    "    for i in range (tableSize*2):\n",
    "        for j in range (tableSize*2):\n",
    "            if(B[i][j] != 0):\n",
    "                answer[i][j] = newText[fillness]\n",
    "                fillness += 1\n",
    "    B = rotate(B)\n",
    "    \n",
    "print(np.matrix(answer))"
   ]
  },
  {
   "cell_type": "code",
   "execution_count": 42,
   "id": "5b91485d-d2d4-426a-b537-4f2d1fb28c25",
   "metadata": {},
   "outputs": [
    {
     "name": "stdout",
     "output_type": "stream",
     "text": [
      "лаиэьй\n"
     ]
    }
   ],
   "source": [
    "tmp_key = ''\n",
    "\n",
    "while(len(tmp_key) != tableSize*2):\n",
    "    tmp_rand = np.random.randint(len(ru))\n",
    "    if(tmp_key.count(ru[tmp_rand]) == 0):\n",
    "        tmp_key += ru[tmp_rand]\n",
    "        \n",
    "key = tmp_key\n",
    "print(key)"
   ]
  },
  {
   "cell_type": "code",
   "execution_count": 45,
   "id": "87657aa3-3fb2-4981-8ff7-f636ccfc71ae",
   "metadata": {},
   "outputs": [],
   "source": [
    "minimum = 999999999\n",
    "ans_text = ''\n",
    "min_index = 0\n",
    "for i in range(len(key)):\n",
    "    for j in range(len(tmp_key)):\n",
    "        if(ord(tmp_key[j]) < minimum):\n",
    "            minimum = ord(tmp_key[j])\n",
    "            min_index = j\n",
    "    for j in range(tableSize*2):\n",
    "        ans_text += answer[j][min_index]\n",
    "    tmp_key = tmp_key.replace(tmp_key[min_index], chr(ord('я')+3))\n",
    "    minimum = 999999"
   ]
  },
  {
   "cell_type": "code",
   "execution_count": 46,
   "id": "0ad78aab-f41f-4fdf-b68d-95d437e1b0b3",
   "metadata": {},
   "outputs": [
    {
     "name": "stdout",
     "output_type": "stream",
     "text": [
      "Ваш текст :  Здравствуйте я Григорий\n",
      "Matrix B:\n",
      " [[0. 2. 0. 0. 0. 0.]\n",
      " [0. 0. 0. 8. 5. 0.]\n",
      " [0. 0. 0. 9. 6. 0.]\n",
      " [0. 0. 0. 0. 0. 7.]\n",
      " [0. 0. 0. 0. 0. 0.]\n",
      " [0. 4. 0. 3. 0. 1.]]\n",
      "Result matrix\n",
      " [['р' 'з' 'и' '*' 'й' '*']\n",
      " ['й' '*' '*' 'д' 'р' 'т']\n",
      " ['*' '*' '*' 'а' 'в' '*']\n",
      " ['е' '*' '*' 'я' 'г' 'с']\n",
      " ['*' '*' '*' 'р' 'и' '*']\n",
      " ['г' 'т' 'о' 'в' '*' 'у']]\n",
      "Key =  лаиэьй\n",
      "Cyphered text =  з****ти****о*т*с*урй*е*гйрвги**даярв\n"
     ]
    }
   ],
   "source": [
    "print('Ваш текст : ', text)\n",
    "print('Matrix B:\\n', np.matrix(B))\n",
    "print('Result matrix\\n', np.matrix(answer))\n",
    "print('Key = ', key)\n",
    "print('Cyphered text = ', ans_text)"
   ]
  },
  {
   "cell_type": "markdown",
   "id": "801b5756-58b0-477b-8c0e-7a100d3e8c3e",
   "metadata": {},
   "source": [
    "### Номер 3"
   ]
  },
  {
   "cell_type": "code",
   "execution_count": 47,
   "id": "0d7dda5b-1e41-4d31-862e-1b4e9549c16a",
   "metadata": {},
   "outputs": [],
   "source": [
    "letters = {ru[i] : i for i in range(len(ru))}"
   ]
  },
  {
   "cell_type": "code",
   "execution_count": 51,
   "id": "fd145fdc-4eac-485c-bfa8-16103da23c57",
   "metadata": {},
   "outputs": [],
   "source": [
    "vignere_table = np.array(ru)\n",
    "for i in range(1, len(ru)):\n",
    "    row = np.roll(ru,-i)\n",
    "    vignere_table = np.vstack((vignere_table,row))"
   ]
  },
  {
   "cell_type": "code",
   "execution_count": 52,
   "id": "9e708ccd-42a6-4cd8-a4e4-9de25aedda65",
   "metadata": {},
   "outputs": [
    {
     "name": "stdout",
     "output_type": "stream",
     "text": [
      "сдатвсдвуутхсгръгоъищ\n"
     ]
    }
   ],
   "source": [
    "text = 'Здравствуйте я Григорий'\n",
    "newText = text.replace(' ', '').lower()\n",
    "key = 'Карта'\n",
    "newKey = key.lower()\n",
    "\n",
    "keyLen = len(newKey)\n",
    "textLen = len(newText)\n",
    "_key = newKey\n",
    "\n",
    "while len(_key) < textLen:\n",
    "    k = len(_key)\n",
    "    _key += _key[k-n]\n",
    "\n",
    "result = \"\"\n",
    "for i in range(textLen):\n",
    "    x = letters[_key[i]]\n",
    "    y = letters[newText[i]]\n",
    "    result += vignere_table[x][y]\n",
    "\n",
    "print(result)"
   ]
  },
  {
   "cell_type": "code",
   "execution_count": null,
   "id": "84323631-e2af-473f-8df8-41e8d15b7eb1",
   "metadata": {},
   "outputs": [],
   "source": []
  }
 ],
 "metadata": {
  "kernelspec": {
   "display_name": "Python 3 (ipykernel)",
   "language": "python",
   "name": "python3"
  },
  "language_info": {
   "codemirror_mode": {
    "name": "ipython",
    "version": 3
   },
   "file_extension": ".py",
   "mimetype": "text/x-python",
   "name": "python",
   "nbconvert_exporter": "python",
   "pygments_lexer": "ipython3",
   "version": "3.9.5"
  }
 },
 "nbformat": 4,
 "nbformat_minor": 5
}
